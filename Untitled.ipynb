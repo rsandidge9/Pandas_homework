{
 "cells": [
  {
   "cell_type": "code",
   "execution_count": 41,
   "metadata": {},
   "outputs": [],
   "source": [
    "#District Summary\n",
    " #Calculate the total number of schools\n",
    " #Calculate the total number of students\n",
    " #Calculate the total budget\n",
    " #Calculate the average math score \n",
    " #Calculate the average reading score\n",
    " #Calculate the percentage of students with a passing math score (70 or greater)\n",
    " #Calculate the percentage of students with a passing reading score (70 or greater)\n",
    " #Calculate the percentage of students who passed math and reading (% Overall Passing)\n",
    " #Create a dataframe to hold the above results\n",
    "   #Optional: give the displayed data cleaner formatting"
   ]
  },
  {
   "cell_type": "code",
   "execution_count": 4,
   "metadata": {},
   "outputs": [
    {
     "data": {
      "text/html": [
       "<div>\n",
       "<style scoped>\n",
       "    .dataframe tbody tr th:only-of-type {\n",
       "        vertical-align: middle;\n",
       "    }\n",
       "\n",
       "    .dataframe tbody tr th {\n",
       "        vertical-align: top;\n",
       "    }\n",
       "\n",
       "    .dataframe thead th {\n",
       "        text-align: right;\n",
       "    }\n",
       "</style>\n",
       "<table border=\"1\" class=\"dataframe\">\n",
       "  <thead>\n",
       "    <tr style=\"text-align: right;\">\n",
       "      <th></th>\n",
       "      <th>School ID</th>\n",
       "      <th>school_name</th>\n",
       "      <th>type</th>\n",
       "      <th>size</th>\n",
       "      <th>budget</th>\n",
       "    </tr>\n",
       "  </thead>\n",
       "  <tbody>\n",
       "    <tr>\n",
       "      <td>0</td>\n",
       "      <td>0</td>\n",
       "      <td>Huang High School</td>\n",
       "      <td>District</td>\n",
       "      <td>2917</td>\n",
       "      <td>1910635</td>\n",
       "    </tr>\n",
       "    <tr>\n",
       "      <td>1</td>\n",
       "      <td>1</td>\n",
       "      <td>Figueroa High School</td>\n",
       "      <td>District</td>\n",
       "      <td>2949</td>\n",
       "      <td>1884411</td>\n",
       "    </tr>\n",
       "    <tr>\n",
       "      <td>2</td>\n",
       "      <td>2</td>\n",
       "      <td>Shelton High School</td>\n",
       "      <td>Charter</td>\n",
       "      <td>1761</td>\n",
       "      <td>1056600</td>\n",
       "    </tr>\n",
       "    <tr>\n",
       "      <td>3</td>\n",
       "      <td>3</td>\n",
       "      <td>Hernandez High School</td>\n",
       "      <td>District</td>\n",
       "      <td>4635</td>\n",
       "      <td>3022020</td>\n",
       "    </tr>\n",
       "    <tr>\n",
       "      <td>4</td>\n",
       "      <td>4</td>\n",
       "      <td>Griffin High School</td>\n",
       "      <td>Charter</td>\n",
       "      <td>1468</td>\n",
       "      <td>917500</td>\n",
       "    </tr>\n",
       "  </tbody>\n",
       "</table>\n",
       "</div>"
      ],
      "text/plain": [
       "   School ID            school_name      type  size   budget\n",
       "0          0      Huang High School  District  2917  1910635\n",
       "1          1   Figueroa High School  District  2949  1884411\n",
       "2          2    Shelton High School   Charter  1761  1056600\n",
       "3          3  Hernandez High School  District  4635  3022020\n",
       "4          4    Griffin High School   Charter  1468   917500"
      ]
     },
     "execution_count": 4,
     "metadata": {},
     "output_type": "execute_result"
    }
   ],
   "source": [
    "# Dependencies and Setup\n",
    "import pandas as pd\n",
    "\n",
    "# File to Load (Remember to Change These)\n",
    "school_data_to_load = \"Resources/schools_complete.csv\"\n",
    "student_data_to_load = \"Resources/students_complete.csv\"\n",
    "\n",
    "# Read School Data File and store into Pandas DataFrames\n",
    "school_data_df = pd.read_csv(school_data_to_load)\n",
    "school_data_df.head()"
   ]
  },
  {
   "cell_type": "code",
   "execution_count": 5,
   "metadata": {},
   "outputs": [
    {
     "data": {
      "text/html": [
       "<div>\n",
       "<style scoped>\n",
       "    .dataframe tbody tr th:only-of-type {\n",
       "        vertical-align: middle;\n",
       "    }\n",
       "\n",
       "    .dataframe tbody tr th {\n",
       "        vertical-align: top;\n",
       "    }\n",
       "\n",
       "    .dataframe thead th {\n",
       "        text-align: right;\n",
       "    }\n",
       "</style>\n",
       "<table border=\"1\" class=\"dataframe\">\n",
       "  <thead>\n",
       "    <tr style=\"text-align: right;\">\n",
       "      <th></th>\n",
       "      <th>Student ID</th>\n",
       "      <th>student_name</th>\n",
       "      <th>gender</th>\n",
       "      <th>grade</th>\n",
       "      <th>school_name</th>\n",
       "      <th>reading_score</th>\n",
       "      <th>math_score</th>\n",
       "    </tr>\n",
       "  </thead>\n",
       "  <tbody>\n",
       "    <tr>\n",
       "      <td>0</td>\n",
       "      <td>0</td>\n",
       "      <td>Paul Bradley</td>\n",
       "      <td>M</td>\n",
       "      <td>9th</td>\n",
       "      <td>Huang High School</td>\n",
       "      <td>66</td>\n",
       "      <td>79</td>\n",
       "    </tr>\n",
       "    <tr>\n",
       "      <td>1</td>\n",
       "      <td>1</td>\n",
       "      <td>Victor Smith</td>\n",
       "      <td>M</td>\n",
       "      <td>12th</td>\n",
       "      <td>Huang High School</td>\n",
       "      <td>94</td>\n",
       "      <td>61</td>\n",
       "    </tr>\n",
       "    <tr>\n",
       "      <td>2</td>\n",
       "      <td>2</td>\n",
       "      <td>Kevin Rodriguez</td>\n",
       "      <td>M</td>\n",
       "      <td>12th</td>\n",
       "      <td>Huang High School</td>\n",
       "      <td>90</td>\n",
       "      <td>60</td>\n",
       "    </tr>\n",
       "    <tr>\n",
       "      <td>3</td>\n",
       "      <td>3</td>\n",
       "      <td>Dr. Richard Scott</td>\n",
       "      <td>M</td>\n",
       "      <td>12th</td>\n",
       "      <td>Huang High School</td>\n",
       "      <td>67</td>\n",
       "      <td>58</td>\n",
       "    </tr>\n",
       "    <tr>\n",
       "      <td>4</td>\n",
       "      <td>4</td>\n",
       "      <td>Bonnie Ray</td>\n",
       "      <td>F</td>\n",
       "      <td>9th</td>\n",
       "      <td>Huang High School</td>\n",
       "      <td>97</td>\n",
       "      <td>84</td>\n",
       "    </tr>\n",
       "  </tbody>\n",
       "</table>\n",
       "</div>"
      ],
      "text/plain": [
       "   Student ID       student_name gender grade        school_name  \\\n",
       "0           0       Paul Bradley      M   9th  Huang High School   \n",
       "1           1       Victor Smith      M  12th  Huang High School   \n",
       "2           2    Kevin Rodriguez      M  12th  Huang High School   \n",
       "3           3  Dr. Richard Scott      M  12th  Huang High School   \n",
       "4           4         Bonnie Ray      F   9th  Huang High School   \n",
       "\n",
       "   reading_score  math_score  \n",
       "0             66          79  \n",
       "1             94          61  \n",
       "2             90          60  \n",
       "3             67          58  \n",
       "4             97          84  "
      ]
     },
     "execution_count": 5,
     "metadata": {},
     "output_type": "execute_result"
    }
   ],
   "source": [
    "# Read Student Data File and store into Pandas DataFrames\n",
    "student_data_df = pd.read_csv(student_data_to_load)\n",
    "student_data_df.head()"
   ]
  },
  {
   "cell_type": "code",
   "execution_count": 7,
   "metadata": {},
   "outputs": [
    {
     "name": "stdout",
     "output_type": "stream",
     "text": [
      "15\n"
     ]
    }
   ],
   "source": [
    "#total number of schools\n",
    "school_count = len(school_data_df[\"school_name\"].unique())\n",
    "print(school_count)"
   ]
  },
  {
   "cell_type": "code",
   "execution_count": 8,
   "metadata": {},
   "outputs": [
    {
     "data": {
      "text/plain": [
       "39170"
      ]
     },
     "execution_count": 8,
     "metadata": {},
     "output_type": "execute_result"
    }
   ],
   "source": [
    "#total number of students\n",
    "student_count = student_data_df[\"Student ID\"].count()\n",
    "student_count"
   ]
  },
  {
   "cell_type": "code",
   "execution_count": 9,
   "metadata": {},
   "outputs": [
    {
     "name": "stdout",
     "output_type": "stream",
     "text": [
      "24649428\n"
     ]
    }
   ],
   "source": [
    "#total budget\n",
    "total_budget = school_data_df[\"budget\"].sum()\n",
    "print (total_budget)"
   ]
  },
  {
   "cell_type": "code",
   "execution_count": 29,
   "metadata": {},
   "outputs": [
    {
     "name": "stdout",
     "output_type": "stream",
     "text": [
      "81.9\n"
     ]
    }
   ],
   "source": [
    "# average of the reading column\n",
    "reading_score_mean = round((student_data_df.loc[:,\"reading_score\"].mean()),1)\n",
    "print(reading_score_mean)"
   ]
  },
  {
   "cell_type": "code",
   "execution_count": 28,
   "metadata": {},
   "outputs": [
    {
     "name": "stdout",
     "output_type": "stream",
     "text": [
      "79.0\n"
     ]
    }
   ],
   "source": [
    "# average of the math column\n",
    "math_score_mean = round((student_data_df.loc[:,\"math_score\"].mean()),1)\n",
    "print(math_score_mean)"
   ]
  },
  {
   "cell_type": "code",
   "execution_count": 26,
   "metadata": {},
   "outputs": [
    {
     "name": "stdout",
     "output_type": "stream",
     "text": [
      "29370\n",
      "75.0\n"
     ]
    }
   ],
   "source": [
    "#Calculate the percentage of students with a passing math score (70 or greadatter)\n",
    "math_pass_count = student_data_df.loc[student_data_df['math_score'] >= 70].count()[\"Student ID\"]\n",
    "print(math_pass_count)\n",
    "math_pass_percentage = round((math_pass_count / float(student_count) * 100),1)\n",
    "print(math_pass_percentage)"
   ]
  },
  {
   "cell_type": "code",
   "execution_count": 25,
   "metadata": {},
   "outputs": [
    {
     "name": "stdout",
     "output_type": "stream",
     "text": [
      "33610\n",
      "85.8\n"
     ]
    }
   ],
   "source": [
    "# Calculate the percentage of students with a passing reading score (70 or greater)\n",
    "reading_pass_count = student_data_df.loc[student_data_df['reading_score'] >= 70].count()[\"Student ID\"]\n",
    "print(reading_pass_count)\n",
    "reading_pass_percentage = round((reading_pass_count / float(student_count)* 100),1)\n",
    "print(reading_pass_percentage)"
   ]
  },
  {
   "cell_type": "code",
   "execution_count": 24,
   "metadata": {},
   "outputs": [
    {
     "name": "stdout",
     "output_type": "stream",
     "text": [
      "25528\n",
      "65.2\n"
     ]
    }
   ],
   "source": [
    "#pass both reading and math\n",
    "math_reading_combo_count = student_data_df.loc[(student_data_df['math_score'] >= 70) & (student_data_df['reading_score'] >= 70)].count()[\"Student ID\"]\n",
    "math_reading_pass_percentage = round((math_reading_combo_count / float(student_count)* 100),1)\n",
    "print(math_reading_combo_count)\n",
    "print(math_reading_pass_percentage)\n"
   ]
  },
  {
   "cell_type": "code",
   "execution_count": 34,
   "metadata": {},
   "outputs": [
    {
     "data": {
      "text/html": [
       "<div>\n",
       "<style scoped>\n",
       "    .dataframe tbody tr th:only-of-type {\n",
       "        vertical-align: middle;\n",
       "    }\n",
       "\n",
       "    .dataframe tbody tr th {\n",
       "        vertical-align: top;\n",
       "    }\n",
       "\n",
       "    .dataframe thead th {\n",
       "        text-align: right;\n",
       "    }\n",
       "</style>\n",
       "<table border=\"1\" class=\"dataframe\">\n",
       "  <thead>\n",
       "    <tr style=\"text-align: right;\">\n",
       "      <th></th>\n",
       "      <th>Total Number of Schools</th>\n",
       "      <th>Total Number of Students</th>\n",
       "      <th>Total Budget</th>\n",
       "      <th>Math Pass Percent</th>\n",
       "      <th>Read Pass Percent</th>\n",
       "      <th>Students that passed Math and Reading</th>\n",
       "    </tr>\n",
       "  </thead>\n",
       "  <tbody>\n",
       "    <tr>\n",
       "      <td>0</td>\n",
       "      <td>15</td>\n",
       "      <td>39,170</td>\n",
       "      <td>24649428</td>\n",
       "      <td>75.0</td>\n",
       "      <td>85.8</td>\n",
       "      <td>65.2</td>\n",
       "    </tr>\n",
       "  </tbody>\n",
       "</table>\n",
       "</div>"
      ],
      "text/plain": [
       "   Total Number of Schools Total Number of Students  Total Budget  \\\n",
       "0                       15                   39,170      24649428   \n",
       "\n",
       "   Math Pass Percent  Read Pass Percent  Students that passed Math and Reading  \n",
       "0               75.0               85.8                                   65.2  "
      ]
     },
     "execution_count": 34,
     "metadata": {},
     "output_type": "execute_result"
    }
   ],
   "source": [
    "#district summary\n",
    "district_summary = pd.DataFrame({\"Total Number of Schools\":[school_count],\n",
    "                                \"Total Number of Students\":[student_count],\n",
    "                                 \"Total Budget\":[total_budget],\n",
    "                                \"Math Pass Percent\":[math_pass_percentage],\n",
    "                                \"Read Pass Percent\":[reading_pass_percentage],\n",
    "                                \"Students that passed Math and Reading\": [math_reading_pass_percentage]})\n",
    "district_summary[\"Total Number of Students\"]=district_summary[\"Total Number of Students\"].map(\"{:,}\".format)\n",
    "district_summary"
   ]
  },
  {
   "cell_type": "code",
   "execution_count": 42,
   "metadata": {},
   "outputs": [],
   "source": [
    "#School Summary\n",
    "\n",
    "    #Create an overview table that summarizes key metrics about each school, including:\n",
    "    #School Name\n",
    "    #School Type\n",
    "    #Total Students\n",
    "    #Total School Budget\n",
    "    #Per Student Budget\n",
    "    #Average Math Score\n",
    "    #Average Reading Score\n",
    "    #% Passing Math\n",
    "    #% Passing Reading\n",
    "    #% Overall Passing (The percentage of students that passed math and reading.)\n",
    "        #Create a dataframe to hold the above results"
   ]
  },
  {
   "cell_type": "code",
   "execution_count": 40,
   "metadata": {},
   "outputs": [
    {
     "data": {
      "text/html": [
       "<div>\n",
       "<style scoped>\n",
       "    .dataframe tbody tr th:only-of-type {\n",
       "        vertical-align: middle;\n",
       "    }\n",
       "\n",
       "    .dataframe tbody tr th {\n",
       "        vertical-align: top;\n",
       "    }\n",
       "\n",
       "    .dataframe thead th {\n",
       "        text-align: right;\n",
       "    }\n",
       "</style>\n",
       "<table border=\"1\" class=\"dataframe\">\n",
       "  <thead>\n",
       "    <tr style=\"text-align: right;\">\n",
       "      <th></th>\n",
       "      <th>Student ID</th>\n",
       "      <th>student_name</th>\n",
       "      <th>gender</th>\n",
       "      <th>grade</th>\n",
       "      <th>school_name</th>\n",
       "      <th>reading_score</th>\n",
       "      <th>math_score</th>\n",
       "      <th>School ID</th>\n",
       "      <th>type</th>\n",
       "      <th>size</th>\n",
       "      <th>budget</th>\n",
       "    </tr>\n",
       "  </thead>\n",
       "  <tbody>\n",
       "    <tr>\n",
       "      <td>0</td>\n",
       "      <td>0</td>\n",
       "      <td>Paul Bradley</td>\n",
       "      <td>M</td>\n",
       "      <td>9th</td>\n",
       "      <td>Huang High School</td>\n",
       "      <td>66</td>\n",
       "      <td>79</td>\n",
       "      <td>0</td>\n",
       "      <td>District</td>\n",
       "      <td>2917</td>\n",
       "      <td>1910635</td>\n",
       "    </tr>\n",
       "    <tr>\n",
       "      <td>1</td>\n",
       "      <td>1</td>\n",
       "      <td>Victor Smith</td>\n",
       "      <td>M</td>\n",
       "      <td>12th</td>\n",
       "      <td>Huang High School</td>\n",
       "      <td>94</td>\n",
       "      <td>61</td>\n",
       "      <td>0</td>\n",
       "      <td>District</td>\n",
       "      <td>2917</td>\n",
       "      <td>1910635</td>\n",
       "    </tr>\n",
       "    <tr>\n",
       "      <td>2</td>\n",
       "      <td>2</td>\n",
       "      <td>Kevin Rodriguez</td>\n",
       "      <td>M</td>\n",
       "      <td>12th</td>\n",
       "      <td>Huang High School</td>\n",
       "      <td>90</td>\n",
       "      <td>60</td>\n",
       "      <td>0</td>\n",
       "      <td>District</td>\n",
       "      <td>2917</td>\n",
       "      <td>1910635</td>\n",
       "    </tr>\n",
       "    <tr>\n",
       "      <td>3</td>\n",
       "      <td>3</td>\n",
       "      <td>Dr. Richard Scott</td>\n",
       "      <td>M</td>\n",
       "      <td>12th</td>\n",
       "      <td>Huang High School</td>\n",
       "      <td>67</td>\n",
       "      <td>58</td>\n",
       "      <td>0</td>\n",
       "      <td>District</td>\n",
       "      <td>2917</td>\n",
       "      <td>1910635</td>\n",
       "    </tr>\n",
       "    <tr>\n",
       "      <td>4</td>\n",
       "      <td>4</td>\n",
       "      <td>Bonnie Ray</td>\n",
       "      <td>F</td>\n",
       "      <td>9th</td>\n",
       "      <td>Huang High School</td>\n",
       "      <td>97</td>\n",
       "      <td>84</td>\n",
       "      <td>0</td>\n",
       "      <td>District</td>\n",
       "      <td>2917</td>\n",
       "      <td>1910635</td>\n",
       "    </tr>\n",
       "  </tbody>\n",
       "</table>\n",
       "</div>"
      ],
      "text/plain": [
       "   Student ID       student_name gender grade        school_name  \\\n",
       "0           0       Paul Bradley      M   9th  Huang High School   \n",
       "1           1       Victor Smith      M  12th  Huang High School   \n",
       "2           2    Kevin Rodriguez      M  12th  Huang High School   \n",
       "3           3  Dr. Richard Scott      M  12th  Huang High School   \n",
       "4           4         Bonnie Ray      F   9th  Huang High School   \n",
       "\n",
       "   reading_score  math_score  School ID      type  size   budget  \n",
       "0             66          79          0  District  2917  1910635  \n",
       "1             94          61          0  District  2917  1910635  \n",
       "2             90          60          0  District  2917  1910635  \n",
       "3             67          58          0  District  2917  1910635  \n",
       "4             97          84          0  District  2917  1910635  "
      ]
     },
     "execution_count": 40,
     "metadata": {},
     "output_type": "execute_result"
    }
   ],
   "source": [
    "#merge csv files into one csv file\n",
    "school_data_combo_df = pd.merge(student_data_df, school_data_df, how=\"left\", on=[\"school_name\", \"school_name\"])\n",
    "school_data_combo_df.head()"
   ]
  },
  {
   "cell_type": "code",
   "execution_count": 39,
   "metadata": {},
   "outputs": [
    {
     "name": "stdout",
     "output_type": "stream",
     "text": [
      "school_name\n",
      "Huang High School        District\n",
      "Figueroa High School     District\n",
      "Shelton High School       Charter\n",
      "Hernandez High School    District\n",
      "Griffin High School       Charter\n",
      "Wilson High School        Charter\n",
      "Cabrera High School       Charter\n",
      "Bailey High School       District\n",
      "Holden High School        Charter\n",
      "Pena High School          Charter\n",
      "Wright High School        Charter\n",
      "Rodriguez High School    District\n",
      "Johnson High School      District\n",
      "Ford High School         District\n",
      "Thomas High School        Charter\n",
      "Name: type, dtype: object\n"
     ]
    }
   ],
   "source": [
    "#Group by school name and type - district vs charter\n",
    "school_type = school_data_df.set_index([\"school_name\"])[\"type\"]\n",
    "print(school_type)"
   ]
  },
  {
   "cell_type": "code",
   "execution_count": 43,
   "metadata": {},
   "outputs": [
    {
     "name": "stdout",
     "output_type": "stream",
     "text": [
      "school_name\n",
      "Bailey High School       4976\n",
      "Cabrera High School      1858\n",
      "Figueroa High School     2949\n",
      "Ford High School         2739\n",
      "Griffin High School      1468\n",
      "Hernandez High School    4635\n",
      "Holden High School        427\n",
      "Huang High School        2917\n",
      "Johnson High School      4761\n",
      "Pena High School          962\n",
      "Rodriguez High School    3999\n",
      "Shelton High School      1761\n",
      "Thomas High School       1635\n",
      "Wilson High School       2283\n",
      "Wright High School       1800\n",
      "Name: Student ID, dtype: int64\n"
     ]
    }
   ],
   "source": [
    "#total number of students at each school\n",
    "per_school_data_count = school_data_combo_df.groupby(['school_name']).count()[\"Student ID\"]\n",
    "print(per_school_data_count)"
   ]
  },
  {
   "cell_type": "code",
   "execution_count": 45,
   "metadata": {},
   "outputs": [
    {
     "data": {
      "text/html": [
       "<div>\n",
       "<style scoped>\n",
       "    .dataframe tbody tr th:only-of-type {\n",
       "        vertical-align: middle;\n",
       "    }\n",
       "\n",
       "    .dataframe tbody tr th {\n",
       "        vertical-align: top;\n",
       "    }\n",
       "\n",
       "    .dataframe thead th {\n",
       "        text-align: right;\n",
       "    }\n",
       "</style>\n",
       "<table border=\"1\" class=\"dataframe\">\n",
       "  <thead>\n",
       "    <tr style=\"text-align: right;\">\n",
       "      <th></th>\n",
       "      <th>Student ID</th>\n",
       "      <th>student_name</th>\n",
       "      <th>gender</th>\n",
       "      <th>grade</th>\n",
       "      <th>school_name</th>\n",
       "      <th>reading_score</th>\n",
       "      <th>math_score</th>\n",
       "      <th>School ID</th>\n",
       "      <th>type</th>\n",
       "      <th>size</th>\n",
       "      <th>budget</th>\n",
       "    </tr>\n",
       "  </thead>\n",
       "  <tbody>\n",
       "    <tr>\n",
       "      <td>17871</td>\n",
       "      <td>17871</td>\n",
       "      <td>Blake Martin</td>\n",
       "      <td>M</td>\n",
       "      <td>9th</td>\n",
       "      <td>Bailey High School</td>\n",
       "      <td>75</td>\n",
       "      <td>59</td>\n",
       "      <td>7</td>\n",
       "      <td>District</td>\n",
       "      <td>4976</td>\n",
       "      <td>3124928</td>\n",
       "    </tr>\n",
       "    <tr>\n",
       "      <td>17872</td>\n",
       "      <td>17872</td>\n",
       "      <td>Kathryn Kane</td>\n",
       "      <td>F</td>\n",
       "      <td>12th</td>\n",
       "      <td>Bailey High School</td>\n",
       "      <td>84</td>\n",
       "      <td>58</td>\n",
       "      <td>7</td>\n",
       "      <td>District</td>\n",
       "      <td>4976</td>\n",
       "      <td>3124928</td>\n",
       "    </tr>\n",
       "    <tr>\n",
       "      <td>17873</td>\n",
       "      <td>17873</td>\n",
       "      <td>Richard Haas</td>\n",
       "      <td>M</td>\n",
       "      <td>11th</td>\n",
       "      <td>Bailey High School</td>\n",
       "      <td>79</td>\n",
       "      <td>86</td>\n",
       "      <td>7</td>\n",
       "      <td>District</td>\n",
       "      <td>4976</td>\n",
       "      <td>3124928</td>\n",
       "    </tr>\n",
       "    <tr>\n",
       "      <td>17874</td>\n",
       "      <td>17874</td>\n",
       "      <td>Frank Marsh</td>\n",
       "      <td>M</td>\n",
       "      <td>9th</td>\n",
       "      <td>Bailey High School</td>\n",
       "      <td>71</td>\n",
       "      <td>89</td>\n",
       "      <td>7</td>\n",
       "      <td>District</td>\n",
       "      <td>4976</td>\n",
       "      <td>3124928</td>\n",
       "    </tr>\n",
       "    <tr>\n",
       "      <td>17875</td>\n",
       "      <td>17875</td>\n",
       "      <td>Charles Goodman Jr.</td>\n",
       "      <td>M</td>\n",
       "      <td>9th</td>\n",
       "      <td>Bailey High School</td>\n",
       "      <td>90</td>\n",
       "      <td>61</td>\n",
       "      <td>7</td>\n",
       "      <td>District</td>\n",
       "      <td>4976</td>\n",
       "      <td>3124928</td>\n",
       "    </tr>\n",
       "  </tbody>\n",
       "</table>\n",
       "</div>"
      ],
      "text/plain": [
       "       Student ID         student_name gender grade         school_name  \\\n",
       "17871       17871         Blake Martin      M   9th  Bailey High School   \n",
       "17872       17872         Kathryn Kane      F  12th  Bailey High School   \n",
       "17873       17873         Richard Haas      M  11th  Bailey High School   \n",
       "17874       17874          Frank Marsh      M   9th  Bailey High School   \n",
       "17875       17875  Charles Goodman Jr.      M   9th  Bailey High School   \n",
       "\n",
       "       reading_score  math_score  School ID      type  size   budget  \n",
       "17871             75          59          7  District  4976  3124928  \n",
       "17872             84          58          7  District  4976  3124928  \n",
       "17873             79          86          7  District  4976  3124928  \n",
       "17874             71          89          7  District  4976  3124928  \n",
       "17875             90          61          7  District  4976  3124928  "
      ]
     },
     "execution_count": 45,
     "metadata": {},
     "output_type": "execute_result"
    }
   ],
   "source": [
    "#check to make sure the data is correct\n",
    "school_data_combo_df[school_data_combo_df[\"school_name\"]==\"Bailey High School\"].head()"
   ]
  },
  {
   "cell_type": "code",
   "execution_count": 46,
   "metadata": {},
   "outputs": [
    {
     "name": "stdout",
     "output_type": "stream",
     "text": [
      "school_name\n",
      "Bailey High School       3124928.0\n",
      "Cabrera High School      1081356.0\n",
      "Figueroa High School     1884411.0\n",
      "Ford High School         1763916.0\n",
      "Griffin High School       917500.0\n",
      "Hernandez High School    3022020.0\n",
      "Holden High School        248087.0\n",
      "Huang High School        1910635.0\n",
      "Johnson High School      3094650.0\n",
      "Pena High School          585858.0\n",
      "Rodriguez High School    2547363.0\n",
      "Shelton High School      1056600.0\n",
      "Thomas High School       1043130.0\n",
      "Wilson High School       1319574.0\n",
      "Wright High School       1049400.0\n",
      "Name: budget, dtype: float64\n"
     ]
    }
   ],
   "source": [
    "#budget per school\n",
    "per_school_budget_data = school_data_combo_df.groupby([\"school_name\"]).mean()[\"budget\"]\n",
    "print(per_school_budget_data)"
   ]
  },
  {
   "cell_type": "code",
   "execution_count": 48,
   "metadata": {},
   "outputs": [
    {
     "name": "stdout",
     "output_type": "stream",
     "text": [
      "school_name\n",
      "Bailey High School       628.0\n",
      "Cabrera High School      582.0\n",
      "Figueroa High School     639.0\n",
      "Ford High School         644.0\n",
      "Griffin High School      625.0\n",
      "Hernandez High School    652.0\n",
      "Holden High School       581.0\n",
      "Huang High School        655.0\n",
      "Johnson High School      650.0\n",
      "Pena High School         609.0\n",
      "Rodriguez High School    637.0\n",
      "Shelton High School      600.0\n",
      "Thomas High School       638.0\n",
      "Wilson High School       578.0\n",
      "Wright High School       583.0\n",
      "dtype: float64\n"
     ]
    }
   ],
   "source": [
    "#budget per student at each school\n",
    "per_student_budget = per_school_budget_data/per_school_data_count\n",
    "print(per_student_budget)"
   ]
  },
  {
   "cell_type": "code",
   "execution_count": 49,
   "metadata": {},
   "outputs": [
    {
     "name": "stdout",
     "output_type": "stream",
     "text": [
      "school_name\n",
      "Bailey High School       77.0\n",
      "Cabrera High School      83.1\n",
      "Figueroa High School     76.7\n",
      "Ford High School         77.1\n",
      "Griffin High School      83.4\n",
      "Hernandez High School    77.3\n",
      "Holden High School       83.8\n",
      "Huang High School        76.6\n",
      "Johnson High School      77.1\n",
      "Pena High School         83.8\n",
      "Rodriguez High School    76.8\n",
      "Shelton High School      83.4\n",
      "Thomas High School       83.4\n",
      "Wilson High School       83.3\n",
      "Wright High School       83.7\n",
      "Name: math_score, dtype: float64\n"
     ]
    }
   ],
   "source": [
    "#math score school average\n",
    "math_score_average = round((school_data_combo_df.groupby([\"school_name\"]).mean()[\"math_score\"]),1)\n",
    "print(math_score_average)"
   ]
  },
  {
   "cell_type": "code",
   "execution_count": 68,
   "metadata": {},
   "outputs": [
    {
     "data": {
      "text/plain": [
       "school_name\n",
       "Bailey High School       66.680064\n",
       "Cabrera High School      94.133477\n",
       "Figueroa High School     65.988471\n",
       "Ford High School         68.309602\n",
       "Griffin High School      93.392371\n",
       "Hernandez High School    66.752967\n",
       "Holden High School       92.505855\n",
       "Huang High School        65.683922\n",
       "Johnson High School      66.057551\n",
       "Pena High School         94.594595\n",
       "Rodriguez High School    66.366592\n",
       "Shelton High School      93.867121\n",
       "Thomas High School       93.272171\n",
       "Wilson High School       93.867718\n",
       "Wright High School       93.333333\n",
       "dtype: float64"
      ]
     },
     "execution_count": 68,
     "metadata": {},
     "output_type": "execute_result"
    }
   ],
   "source": [
    "#passing math by schools\n",
    "passing_math = school_data_combo_df[(school_data_combo_df[\"math_score\"]>= 70)]\n",
    "#print(passing_math)\n",
    "passing_math_per_school = passing_math.groupby([\"school_name\"]).count()[\"student_name\"]\n",
    "#print(passing_math_per_school)\n",
    "passing_math_per_school_percent =(passing_math_per_school / per_school_data_count) *100\n",
    "passing_math_per_school_percent"
   ]
  },
  {
   "cell_type": "code",
   "execution_count": 51,
   "metadata": {},
   "outputs": [
    {
     "name": "stdout",
     "output_type": "stream",
     "text": [
      "school_name\n",
      "Bailey High School       81.0\n",
      "Cabrera High School      84.0\n",
      "Figueroa High School     81.2\n",
      "Ford High School         80.7\n",
      "Griffin High School      83.8\n",
      "Hernandez High School    80.9\n",
      "Holden High School       83.8\n",
      "Huang High School        81.2\n",
      "Johnson High School      81.0\n",
      "Pena High School         84.0\n",
      "Rodriguez High School    80.7\n",
      "Shelton High School      83.7\n",
      "Thomas High School       83.8\n",
      "Wilson High School       84.0\n",
      "Wright High School       84.0\n",
      "Name: reading_score, dtype: float64\n"
     ]
    }
   ],
   "source": [
    "#reading score school average\n",
    "reading_score_average = round((school_data_combo_df.groupby([\"school_name\"]).mean()[\"reading_score\"]),1)\n",
    "print(reading_score_average)"
   ]
  },
  {
   "cell_type": "code",
   "execution_count": 73,
   "metadata": {},
   "outputs": [
    {
     "data": {
      "text/plain": [
       "school_name\n",
       "Bailey High School       81.933280\n",
       "Cabrera High School      97.039828\n",
       "Figueroa High School     80.739234\n",
       "Ford High School         79.299014\n",
       "Griffin High School      97.138965\n",
       "Hernandez High School    80.862999\n",
       "Holden High School       96.252927\n",
       "Huang High School        81.316421\n",
       "Johnson High School      81.222432\n",
       "Pena High School         95.945946\n",
       "Rodriguez High School    80.220055\n",
       "Shelton High School      95.854628\n",
       "Thomas High School       97.308869\n",
       "Wilson High School       96.539641\n",
       "Wright High School       96.611111\n",
       "dtype: float64"
      ]
     },
     "execution_count": 73,
     "metadata": {},
     "output_type": "execute_result"
    }
   ],
   "source": [
    "#passing reading by school\n",
    "passing_reading = school_data_combo_df[(school_data_combo_df[\"reading_score\"]>= 70)]\n",
    "#print(passing_reading)\n",
    "passing_reading_per_school = passing_reading.groupby([\"school_name\"]).count()[\"student_name\"]\n",
    "#print(passing_reading_per_school)\n",
    "passing_reading_per_school_percent =(passing_reading_per_school / per_school_data_count) *100\n",
    "passing_reading_per_school_percent"
   ]
  },
  {
   "cell_type": "code",
   "execution_count": 139,
   "metadata": {},
   "outputs": [
    {
     "ename": "NameError",
     "evalue": "name 'student_data_combo_df' is not defined",
     "output_type": "error",
     "traceback": [
      "\u001b[1;31m---------------------------------------------------------------------------\u001b[0m",
      "\u001b[1;31mNameError\u001b[0m                                 Traceback (most recent call last)",
      "\u001b[1;32m<ipython-input-139-a90ad6dfd356>\u001b[0m in \u001b[0;36m<module>\u001b[1;34m\u001b[0m\n\u001b[0;32m      6\u001b[0m \u001b[1;33m\u001b[0m\u001b[0m\n\u001b[0;32m      7\u001b[0m \u001b[1;33m\u001b[0m\u001b[0m\n\u001b[1;32m----> 8\u001b[1;33m math_reading_combo_count_per_school = student_data_combo_df.loc[(student_data_combo_df['math_score'] >= 70) & \n\u001b[0m\u001b[0;32m      9\u001b[0m                                                             (student_data_combo_df['reading_score'] >= 70)].count()[\"Student ID\"]\n\u001b[0;32m     10\u001b[0m \u001b[0mmath_reading_pass_percentage_per_school\u001b[0m \u001b[1;33m=\u001b[0m \u001b[0mround\u001b[0m\u001b[1;33m(\u001b[0m\u001b[1;33m(\u001b[0m\u001b[0mmath_reading_combo_count_per_school\u001b[0m \u001b[1;33m/\u001b[0m \u001b[0mfloat\u001b[0m\u001b[1;33m(\u001b[0m\u001b[0mstudent_count\u001b[0m\u001b[1;33m)\u001b[0m\u001b[1;33m*\u001b[0m \u001b[1;36m100\u001b[0m\u001b[1;33m)\u001b[0m\u001b[1;33m,\u001b[0m\u001b[1;36m1\u001b[0m\u001b[1;33m)\u001b[0m\u001b[1;33m\u001b[0m\u001b[1;33m\u001b[0m\u001b[0m\n",
      "\u001b[1;31mNameError\u001b[0m: name 'student_data_combo_df' is not defined"
     ]
    }
   ],
   "source": [
    "#percent of students that are passsing math and reading - overall passing\n",
    "##math_reading_combo_per_school_count = ('passing_reading' & 'passing_math').groupby([\"school_name\"]).count()[\"student_name\"]\n",
    "##print(math_reading_combo_per_school_count)\n",
    "###overall_pass_percent = math_reading_combo_per_school_count/ float(per_school_data_count) * 100\n",
    "###print(overall_pass_percent)\n",
    "\n",
    "\n",
    "math_reading_combo_count_per_school = student_data_combo_df.loc[(student_data_combo_df['math_score'] >= 70) & \n",
    "                                                            (student_data_combo_df['reading_score'] >= 70)].count()[\"Student ID\"]\n",
    "math_reading_pass_percentage_per_school = round((math_reading_combo_count_per_school / float(student_count)* 100),1)\n",
    "print(math_reading_combo_count_per_school)\n",
    "print(math_reading_pass_percentage_per_school)"
   ]
  },
  {
   "cell_type": "code",
   "execution_count": null,
   "metadata": {},
   "outputs": [],
   "source": [
    "#Top performing schools (by % overall passing)\n",
    "    #sort and display the top 5 performing schools by orverall %\n"
   ]
  },
  {
   "cell_type": "code",
   "execution_count": 94,
   "metadata": {},
   "outputs": [],
   "source": [
    "#Bottom performing schools (by % overall passing)\n",
    "    #sort and display the five worst performing schools by % overall passing\n"
   ]
  },
  {
   "cell_type": "code",
   "execution_count": 111,
   "metadata": {},
   "outputs": [],
   "source": [
    "#Math Scores by Grade\n",
    "\n",
    "    #Create a table that lists the average math Score for students of each grade level (9th, 10th, 11th, 12th) at each school.\n",
    "    #Create a pandas series for each grade. Hint: use a conditional statement.\n",
    "    #Group each series by school\n",
    "    #Combine the series into a dataframe\n",
    "    #Optional: give the displayed data cleaner formatting\n"
   ]
  },
  {
   "cell_type": "code",
   "execution_count": null,
   "metadata": {},
   "outputs": [],
   "source": [
    "#Reading Scores by Grade\n",
    "\n",
    "    #Create a table that lists the average Reading Score for students of each grade level (9th, 10th, 11th, 12th) at each school.\n",
    "    #Create a pandas series for each grade. Hint: use a conditional statement.\n",
    "    #Group each series by school\n",
    "    #Combine the series into a dataframe\n",
    "    #Optional: give the displayed data cleaner formatting"
   ]
  },
  {
   "cell_type": "code",
   "execution_count": null,
   "metadata": {},
   "outputs": [],
   "source": [
    "#Scores by School Spending\n",
    "\n",
    "    #Create a table that breaks down school performances based on average Spending Ranges (Per Student). Use 4 reasonable bins to group school spending. Include in the table each of the following:\n",
    "    #Average Math Score\n",
    "    #Average Reading Score\n",
    "    #% Passing Math\n",
    "    #% Passing Reading\n",
    "    #Overall Passing Rate (Average of the above two)"
   ]
  },
  {
   "cell_type": "code",
   "execution_count": null,
   "metadata": {},
   "outputs": [],
   "source": [
    "#Scores by School Size\n",
    "    #Create a table that breaks down school performances based on average score Ranges (Per Student). Use 4 reasonable bins to group school spending. Include in the table each of the following:\n",
    "    #Average Math Score\n",
    "    #Average Reading Score\n",
    "    #% Passing Math\n",
    "    #% Passing Reading\n",
    "    #Overall Passing Rate (Average of the above two)"
   ]
  },
  {
   "cell_type": "code",
   "execution_count": null,
   "metadata": {},
   "outputs": [],
   "source": [
    "#Scores by School Type\n",
    "    #Create a table that breaks down school performances based on average score Ranges (Per Student). Use 4 reasonable bins to group school spending. Include in the table each of the following:\n",
    "    #Average Math Score\n",
    "    #Average Reading Score\n",
    "    #% Passing Math\n",
    "    #% Passing Reading\n",
    "    #Overall Passing Rate (Average of the above two)"
   ]
  },
  {
   "cell_type": "raw",
   "metadata": {},
   "source": []
  }
 ],
 "metadata": {
  "kernelspec": {
   "display_name": "Python 3",
   "language": "python",
   "name": "python3"
  },
  "language_info": {
   "codemirror_mode": {
    "name": "ipython",
    "version": 3
   },
   "file_extension": ".py",
   "mimetype": "text/x-python",
   "name": "python",
   "nbconvert_exporter": "python",
   "pygments_lexer": "ipython3",
   "version": "3.7.4"
  }
 },
 "nbformat": 4,
 "nbformat_minor": 2
}
